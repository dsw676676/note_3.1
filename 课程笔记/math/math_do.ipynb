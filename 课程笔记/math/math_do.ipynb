{
 "cells": [
  {
   "cell_type": "markdown",
   "metadata": {},
   "source": [
    "## 资金换算方法\n",
    "\n",
    "1. 关系：资金时间换算-->资金贴现等值\n",
    "2. 方法：单利计息、复利计息\n",
    "3. 要素：现值、等额、终值"
   ]
  },
  {
   "cell_type": "code",
   "execution_count": null,
   "metadata": {
    "slideshow": {
     "slide_type": "slide"
    },
    "tags": [
     "def"
    ]
   },
   "outputs": [],
   "source": [
    "def change(money,rate,time): # 按年利率的累加折现\n",
    "    return money/(1+rate)*(1-1/(1+rate))**time/(1-1/(1+rate))"
   ]
  },
  {
   "cell_type": "code",
   "execution_count": 6,
   "metadata": {
    "tags": []
   },
   "outputs": [
    {
     "name": "stdout",
     "output_type": "stream",
     "text": [
      "1.9 2.2138068827854247\n"
     ]
    }
   ],
   "source": [
    "x = 1.18\n",
    "y = (1+0.16/12)**12\n",
    "print(1+0.18*5,y**5)"
   ]
  },
  {
   "cell_type": "code",
   "execution_count": 2,
   "metadata": {},
   "outputs": [
    {
     "name": "stdout",
     "output_type": "stream",
     "text": [
      "5743.778919402706\n"
     ]
    }
   ],
   "source": [
    "x = 500*1.08*(1-1.08**8)/-0.08\n",
    "print(x)"
   ]
  },
  {
   "cell_type": "code",
   "execution_count": 21,
   "metadata": {},
   "outputs": [
    {
     "name": "stdout",
     "output_type": "stream",
     "text": [
      "37.076224630850156\n"
     ]
    }
   ],
   "source": [
    "def con(n):\n",
    "    return 250/1.12**2*(1-(1/1.12)**(n-1))/(1-1/1.12)\n",
    "\n",
    "print((1200-con(10))*1.12**11)"
   ]
  },
  {
   "cell_type": "markdown",
   "metadata": {},
   "source": [
    "### 项目兴建的现金流量图\n",
    "\n",
    "$\\because 对佃农有最大化期望效用 \\max{EU(T,l)}=\\max{(1-b)Tf(l)} $"
   ]
  },
  {
   "cell_type": "code",
   "execution_count": 22,
   "metadata": {},
   "outputs": [
    {
     "name": "stdout",
     "output_type": "stream",
     "text": [
      "1037.5123974595224\n"
     ]
    }
   ],
   "source": [
    "A = (2000*1.12+1500)*0.12*1.12**5/(1.12**5-1)\n",
    "\n",
    "print(A)"
   ]
  },
  {
   "cell_type": "code",
   "execution_count": 1,
   "metadata": {},
   "outputs": [
    {
     "data": {
      "text/plain": [
       "0.9645361570227714"
      ]
     },
     "execution_count": 1,
     "metadata": {},
     "output_type": "execute_result"
    }
   ],
   "source": [
    "(4**0.8*0.439)/(5**0.2)"
   ]
  },
  {
   "attachments": {},
   "cell_type": "markdown",
   "metadata": {},
   "source": [
    "## 发展经济学计算"
   ]
  },
  {
   "cell_type": "code",
   "execution_count": 1,
   "metadata": {},
   "outputs": [
    {
     "data": {
      "text/plain": [
       "0.7015596775014601"
      ]
     },
     "execution_count": 1,
     "metadata": {},
     "output_type": "execute_result"
    }
   ],
   "source": [
    "(6.52-6.98)/6.98"
   ]
  }
 ],
 "metadata": {
  "kernelspec": {
   "display_name": "Python 3.10.5 64-bit",
   "language": "python",
   "name": "python3"
  },
  "language_info": {
   "codemirror_mode": {
    "name": "ipython",
    "version": 3
   },
   "file_extension": ".py",
   "mimetype": "text/x-python",
   "name": "python",
   "nbconvert_exporter": "python",
   "pygments_lexer": "ipython3",
   "version": "3.10.5 (tags/v3.10.5:f377153, Jun  6 2022, 16:14:13) [MSC v.1929 64 bit (AMD64)]"
  },
  "orig_nbformat": 4,
  "vscode": {
   "interpreter": {
    "hash": "2332bbfa07c1fe30b281ddfa27db2880ae19303295470922ee052331d8c17f53"
   }
  }
 },
 "nbformat": 4,
 "nbformat_minor": 2
}
