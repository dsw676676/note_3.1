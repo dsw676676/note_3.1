{
 "cells": [
  {
   "cell_type": "markdown",
   "metadata": {},
   "source": [
    "## 一、tensor内容\n",
    "\n",
    "生成+属性+运算"
   ]
  },
  {
   "cell_type": "markdown",
   "metadata": {},
   "source": [
    "### 1.tensor生成\n",
    "\n",
    "1. list生成\n",
    "2. array生成\n",
    "3. numpy转tensor\n",
    "4. tensor转numpy\n",
    "    > 两者共用同一数据\n",
    "5. 其他tensor生成"
   ]
  },
  {
   "cell_type": "code",
   "execution_count": null,
   "metadata": {},
   "outputs": [],
   "source": [
    "import torch\n",
    "import numpy as np\n",
    "\n",
    "data = [[1,2],[3,4]]\n",
    "\n",
    "# list生成\n",
    "x_data = torch.tensor(data)\n",
    "\n",
    "# array生成\n",
    "shape = (2,3,)\n",
    "rand_tensor = torch.rand(shape)\n",
    "ones_tensor = torch.ones(shape)\n",
    "zeros_tensor = torch.zeros(shape)\n",
    "\n",
    "# numpy转tensor\n",
    "np_array = np.array(data)\n",
    "x_np = torch.from_numpy(np_array)\n",
    "\n",
    "# tensor转numpy\n",
    "np_array_2 = x_np.numpy()\n",
    "\n",
    "# 其他tensor生成\n",
    "x_int = torch.ones_like(x_data)\n",
    "x_float = torch.rand_like(x_data,dtype=torch.float)"
   ]
  },
  {
   "cell_type": "markdown",
   "metadata": {},
   "source": [
    "### 2.tensor属性\n",
    "\n",
    "1. tensor维度:`tensor.shape`\n",
    "2. 数据类型:`tensor.dtype`\n",
    "3. 储存设备:`tensor.device`"
   ]
  },
  {
   "cell_type": "markdown",
   "metadata": {},
   "source": [
    "### 3.tensor运算\n",
    "\n",
    "1. 索引与切片\n",
    "2. 拼接\n",
    "3. 乘积与矩阵乘积\n",
    "4. 自动赋值"
   ]
  },
  {
   "cell_type": "markdown",
   "metadata": {},
   "source": [
    "## 二、autograd\n",
    "\n",
    "背景+微分+微积分+计算图+从DAG中排除"
   ]
  },
  {
   "cell_type": "markdown",
   "metadata": {},
   "source": [
    "### 1.背景\n",
    "\n",
    "1. 神经网络(NN)：输入数据上执行的嵌套`函数`的集合，函数通过`参数`定义\n",
    "2. 步骤\n",
    "   1. 正向传播：参数估值，对正确的输出进行最佳猜测\n",
    "   2. 反向传播：假设检验，根据预测误差调整参数"
   ]
  },
  {
   "cell_type": "markdown",
   "metadata": {},
   "source": [
    "### 2.用法\n",
    "\n",
    "1. 训练数据\n",
    "2. 正向传播\n",
    "3. 反向传播\n",
    "   1. 计算误差`loss`，反向传播`.backwoard()`，储存属性`.grad`\n",
    "   2. 优化加载`SGD`，梯度调整`step()`"
   ]
  },
  {
   "cell_type": "code",
   "execution_count": null,
   "metadata": {},
   "outputs": [],
   "source": [
    "import torch, torchvision\n",
    "model = torchvision.models.resnet18(pretrained=True)\n",
    "data = torch.rand(1, 3, 64, 64)\n",
    "labels = torch.rand(1, 1000)\n",
    "\n",
    "prediction = model(data)\n",
    "loss = (prediction - labels).sum()\n",
    "loss.backward()"
   ]
  },
  {
   "cell_type": "markdown",
   "metadata": {},
   "source": [
    "## 三、神经网络\n",
    "\n",
    "### 1. 标准流程\n",
    "\n",
    "1. 定义网络\n",
    "2. 数据预处理\n",
    "3. 数据输入\n",
    "4. 计算损失\n",
    "5. 反向传播，计算梯度\n",
    "6. 更新梯度"
   ]
  },
  {
   "cell_type": "code",
   "execution_count": null,
   "metadata": {},
   "outputs": [],
   "source": []
  }
 ],
 "metadata": {
  "kernelspec": {
   "display_name": "Python 3.10.5 64-bit",
   "language": "python",
   "name": "python3"
  },
  "language_info": {
   "codemirror_mode": {
    "name": "ipython",
    "version": 3
   },
   "file_extension": ".py",
   "mimetype": "text/x-python",
   "name": "python",
   "nbconvert_exporter": "python",
   "pygments_lexer": "ipython3",
   "version": "3.10.5"
  },
  "orig_nbformat": 4,
  "vscode": {
   "interpreter": {
    "hash": "2332bbfa07c1fe30b281ddfa27db2880ae19303295470922ee052331d8c17f53"
   }
  }
 },
 "nbformat": 4,
 "nbformat_minor": 2
}
